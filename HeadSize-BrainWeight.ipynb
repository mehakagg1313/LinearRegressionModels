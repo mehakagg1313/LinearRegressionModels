{
 "cells": [
  {
   "cell_type": "code",
   "execution_count": 1,
   "metadata": {},
   "outputs": [],
   "source": [
    "import numpy as np\n",
    "import pandas as pd\n",
    "import matplotlib.pyplot as plt"
   ]
  },
  {
   "cell_type": "code",
   "execution_count": 2,
   "metadata": {},
   "outputs": [],
   "source": [
    "data = pd.read_csv('headbrain.csv')\n"
   ]
  },
  {
   "cell_type": "code",
   "execution_count": 3,
   "metadata": {},
   "outputs": [
    {
     "name": "stdout",
     "output_type": "stream",
     "text": [
      "(237, 4)\n"
     ]
    },
    {
     "data": {
      "text/plain": [
       "<bound method NDFrame.head of      Gender  Age Range  Head Size(cm^3)  Brain Weight(grams)\n",
       "0         1          1             4512                 1530\n",
       "1         1          1             3738                 1297\n",
       "2         1          1             4261                 1335\n",
       "3         1          1             3777                 1282\n",
       "4         1          1             4177                 1590\n",
       "..      ...        ...              ...                  ...\n",
       "232       2          2             3214                 1110\n",
       "233       2          2             3394                 1215\n",
       "234       2          2             3233                 1104\n",
       "235       2          2             3352                 1170\n",
       "236       2          2             3391                 1120\n",
       "\n",
       "[237 rows x 4 columns]>"
      ]
     },
     "execution_count": 3,
     "metadata": {},
     "output_type": "execute_result"
    }
   ],
   "source": [
    "print(data.shape)\n",
    "data.head"
   ]
  },
  {
   "cell_type": "code",
   "execution_count": 5,
   "metadata": {},
   "outputs": [],
   "source": [
    "#collecting x and y\n",
    "X=data['Head Size(cm^3)'].values\n",
    "Y=data['Brain Weight(grams)'].values"
   ]
  },
  {
   "cell_type": "code",
   "execution_count": 9,
   "metadata": {},
   "outputs": [
    {
     "name": "stdout",
     "output_type": "stream",
     "text": [
      "0.26342933948939945 325.57342104944223\n"
     ]
    }
   ],
   "source": [
    "#mean of x and y\n",
    "mean_x = np.mean(X)\n",
    "mean_y= np.mean(Y)\n",
    "\n",
    "#total no. of vaalues\n",
    "n=len(X)\n",
    "\n",
    "#using formula to calculate slope , c - b1, b0\n",
    "num=0\n",
    "den=0\n",
    "\n",
    "for i in range(n):\n",
    "    num+=(X[i]-mean_x)*(Y[i]-mean_y)\n",
    "    den+=(X[i]-mean_x)**2\n",
    "\n",
    "b1=num/den\n",
    "b0=mean_y -(b1*mean_x)\n",
    "\n",
    "print(b1,b0)\n"
   ]
  },
  {
   "cell_type": "code",
   "execution_count": 15,
   "metadata": {},
   "outputs": [
    {
     "data": {
      "image/png": "[encoded data removed]",
      "text/plain": [
       "<Figure size 432x288 with 1 Axes>"
      ]
     },
     "metadata": {
      "needs_background": "light"
     },
     "output_type": "display_data"
    }
   ],
   "source": [
    "#plotting values and regresssion line\n",
    "max_x= np.max(X) +100\n",
    "min_x = np.min(X) -100\n",
    "\n",
    "#calculating x and y line values\n",
    "x= np.linspace(min_x,max_x,1000)\n",
    "y=b0 + b1*x\n",
    "\n",
    "plt.plot(x,y,color='green',label='Regression line')\n",
    "plt.scatter(X,Y,c='orange',label='scatter plot')\n",
    "\n",
    "plt.xlabel('head size in cm^3')\n",
    "plt.ylabel('brain weight in grams')\n",
    "\n",
    "plt.legend()\n",
    "plt.show()"
   ]
  },
  {
   "cell_type": "code",
   "execution_count": 18,
   "metadata": {},
   "outputs": [
    {
     "name": "stdout",
     "output_type": "stream",
     "text": [
      "0.6393117199570003\n"
     ]
    }
   ],
   "source": [
    "#r squre method\n",
    "nume=0\n",
    "deno=0\n",
    "\n",
    "for i in range(n):\n",
    "    y_pred = b0 + b1*X[i]\n",
    "    nume +=(Y[i]-y_pred)**2\n",
    "    deno+=(Y[i]-mean_y)**2\n",
    "    \n",
    "r2=1- (nume/deno)\n",
    "print(r2)\n",
    "    "
   ]
  },
  {
   "cell_type": "code",
   "execution_count": 20,
   "metadata": {},
   "outputs": [
    {
     "name": "stdout",
     "output_type": "stream",
     "text": [
      "0.639311719957\n"
     ]
    }
   ],
   "source": [
    "from sklearn.linear_model import LinearRegression\n",
    "from sklearn.metrics import mean_squared_error\n",
    "\n",
    "#cannot use rank 1 metrics in scikit learn\n",
    "X=X.reshape((n,1))\n",
    "\n",
    "#creating model\n",
    "reg=LinearRegression()\n",
    "#fitting trainning model\n",
    "reg=reg.fit(X,Y)\n",
    "#y prediction\n",
    "y_pred = reg.predict(X)\n",
    "\n",
    "#calculate r2 score\n",
    "\n",
    "r2_score = reg.score(X,Y)\n",
    "\n",
    "print(r2_score)"
   ]
  },
  {
   "cell_type": "code",
   "execution_count": null,
   "metadata": {},
   "outputs": [],
   "source": []
  }
 ],
 "metadata": {
  "kernelspec": {
   "display_name": "Python 3",
   "language": "python",
   "name": "python3"
  },
  "language_info": {
   "codemirror_mode": {
    "name": "ipython",
    "version": 3
   },
   "file_extension": ".py",
   "mimetype": "text/x-python",
   "name": "python",
   "nbconvert_exporter": "python",
   "pygments_lexer": "ipython3",
   "version": "3.8.5"
  }
 },
 "nbformat": 4,
 "nbformat_minor": 4
}
